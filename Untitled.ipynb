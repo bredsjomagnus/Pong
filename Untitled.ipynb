{
 "cells": [
  {
   "cell_type": "code",
   "execution_count": 16,
   "metadata": {},
   "outputs": [
    {
     "name": "stdout",
     "output_type": "stream",
     "text": [
      "(0.0, 0.4)\n"
     ]
    }
   ],
   "source": [
    "import math\n",
    "\n",
    "PADDLE_WIDTH = 80\n",
    "paddle_coords = (5, 230)\n",
    "\n",
    "ball_speed = (-0.2, 0.2)\n",
    "\n",
    "ball_coords = (5, 270)\n",
    "\n",
    "angle = math.acos((ball_coords[1] - paddle_coords[1])/(PADDLE_WIDTH/2)*1)\n",
    "\n",
    "new_ball_speed = (-1*math.sin(angle)*ball_speed[0], (1+math.cos(angle))*ball_speed[1])\n",
    "\n",
    "print(new_ball_speed)"
   ]
  }
 ],
 "metadata": {
  "kernelspec": {
   "display_name": "Python 3",
   "language": "python",
   "name": "python3"
  },
  "language_info": {
   "codemirror_mode": {
    "name": "ipython",
    "version": 3
   },
   "file_extension": ".py",
   "mimetype": "text/x-python",
   "name": "python",
   "nbconvert_exporter": "python",
   "pygments_lexer": "ipython3",
   "version": "3.7.1"
  }
 },
 "nbformat": 4,
 "nbformat_minor": 2
}
